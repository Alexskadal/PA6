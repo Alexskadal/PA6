{
 "cells": [
  {
   "cell_type": "markdown",
   "id": "c1d34cb0",
   "metadata": {},
   "source": [
    "# Programming Assignment 6, Alexander Kyrkjeeide, Version 1, Spring 2023"
   ]
  },
  {
   "cell_type": "markdown",
   "id": "f87e0cda",
   "metadata": {},
   "source": [
    "## A) "
   ]
  },
  {
   "cell_type": "code",
   "execution_count": 1,
   "id": "d7dcef49",
   "metadata": {},
   "outputs": [
    {
     "name": "stdout",
     "output_type": "stream",
     "text": [
      "Enter the length of side A: 5\n",
      "Enter the length of side B: 5\n",
      "Enter the length of side C: 5\n",
      "The area of the triangle is approximately 10.825318 square units.\n",
      "The perimeter of the triangle is 15 linear units.\n"
     ]
    }
   ],
   "source": [
    "import math\n",
    "\n",
    "def calcArea(a=1, b=1, c=1):\n",
    "    s = (a + b + c) / 2\n",
    "    area = math.sqrt(s * (s-a) * (s-b) * (s-c))\n",
    "    return area\n",
    "\n",
    "def calcPerimeter(a=1, b=1, c=1):\n",
    "    perimeter = a + b + c\n",
    "    return perimeter\n",
    "\n",
    "a = float(input(\"Enter the length of side A: \"))\n",
    "b = float(input(\"Enter the length of side B: \"))\n",
    "c = float(input(\"Enter the length of side C: \"))\n",
    "\n",
    "area = calcArea(a, b, c)\n",
    "perimeter = calcPerimeter(a, b, c)\n",
    "\n",
    "print(f\"The area of the triangle is approximately {area:.6f} square units.\")\n",
    "print(f\"The perimeter of the triangle is {perimeter:.0f} linear units.\")"
   ]
  },
  {
   "cell_type": "markdown",
   "id": "a423ffb5",
   "metadata": {},
   "source": [
    "## B)"
   ]
  },
  {
   "cell_type": "code",
   "execution_count": 2,
   "id": "15f3e178",
   "metadata": {},
   "outputs": [
    {
     "name": "stdout",
     "output_type": "stream",
     "text": [
      "Guess a number between 1 and 1000: 500\n",
      "Too low! Guess again\n",
      "Guess a number between 1 and 1000: 750\n",
      "Too low! Guess again\n",
      "Guess a number between 1 and 1000: 850\n",
      "Too low! Guess again\n",
      "Guess a number between 1 and 1000: 900\n",
      "Too low! Guess again\n",
      "Guess a number between 1 and 1000: 950\n",
      "Too high! Guess again\n",
      "Guess a number between 1 and 1000: 925\n",
      "Too high! Guess again\n",
      "Guess a number between 1 and 1000: 910\n",
      "Too low! Guess again\n",
      "Guess a number between 1 and 1000: 915\n",
      "Correct!\n"
     ]
    }
   ],
   "source": [
    "def evaluateGuess(guess, answer):\n",
    "    if guess > answer:\n",
    "        return \"Too high! Guess again\"\n",
    "    elif guess < answer:\n",
    "        return \"Too low! Guess again\"\n",
    "    else:\n",
    "        return \"Correct!\"\n",
    "\n",
    "answer = 915\n",
    "\n",
    "while True:\n",
    "    guess = int(input(\"Guess a number between 1 and 1000: \"))\n",
    "    result = evaluateGuess(guess, answer)\n",
    "    print(result)\n",
    "    if result == \"Correct!\":\n",
    "        break"
   ]
  },
  {
   "cell_type": "markdown",
   "id": "2ec29c29",
   "metadata": {},
   "source": [
    "## C)"
   ]
  },
  {
   "cell_type": "code",
   "execution_count": 18,
   "id": "ce3e91cb",
   "metadata": {},
   "outputs": [
    {
     "name": "stdout",
     "output_type": "stream",
     "text": [
      "The mean temperature for the past 7 days is 88.00 degrees F.\n",
      "The mean temperature for the past 5 days is 88.20 degrees F.\n",
      "The mean temperature for the past 2 days is 90.00 degrees F.\n"
     ]
    }
   ],
   "source": [
    "def meanTemp(*temps):\n",
    "    mean = sum(temps) / len(temps)\n",
    "    num_days = len(temps)\n",
    "    return f\"The mean temperature for the past {num_days} days is {mean:.2f} degrees F.\"\n",
    "\n",
    "print(meanTemp(89, 91, 86, 87, 86, 86, 91)) \n",
    "print(meanTemp(90, 87, 88, 89, 87))         \n",
    "print(meanTemp(89, 91))  "
   ]
  }
 ],
 "metadata": {
  "kernelspec": {
   "display_name": "Python 3",
   "language": "python",
   "name": "python3"
  },
  "language_info": {
   "codemirror_mode": {
    "name": "ipython",
    "version": 3
   },
   "file_extension": ".py",
   "mimetype": "text/x-python",
   "name": "python",
   "nbconvert_exporter": "python",
   "pygments_lexer": "ipython3",
   "version": "3.8.8"
  }
 },
 "nbformat": 4,
 "nbformat_minor": 5
}
